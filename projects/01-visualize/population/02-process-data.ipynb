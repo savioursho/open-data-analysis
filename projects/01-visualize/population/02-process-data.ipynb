{
 "cells": [
  {
   "cell_type": "markdown",
   "metadata": {},
   "source": [
    "# データ前処理"
   ]
  },
  {
   "cell_type": "markdown",
   "metadata": {},
   "source": [
    "## インポート・設定"
   ]
  },
  {
   "cell_type": "code",
   "execution_count": 1,
   "metadata": {},
   "outputs": [],
   "source": [
    "from pathlib import Path\n",
    "\n",
    "import pandas as pd\n",
    "import geopandas as gpd"
   ]
  },
  {
   "cell_type": "code",
   "execution_count": 2,
   "metadata": {},
   "outputs": [],
   "source": [
    "DATA_DIR = Path(\"./data\")\n",
    "PROCESSED_DATA_DIR = Path(\"./data/processed\")\n",
    "PROCESSED_DATA_DIR.mkdir(exist_ok=True)"
   ]
  },
  {
   "cell_type": "markdown",
   "metadata": {},
   "source": [
    "## 人口データ"
   ]
  },
  {
   "cell_type": "markdown",
   "metadata": {},
   "source": [
    "### 読み込み"
   ]
  },
  {
   "cell_type": "code",
   "execution_count": 3,
   "metadata": {},
   "outputs": [
    {
     "data": {
      "text/html": [
       "<div>\n",
       "<style scoped>\n",
       "    .dataframe tbody tr th:only-of-type {\n",
       "        vertical-align: middle;\n",
       "    }\n",
       "\n",
       "    .dataframe tbody tr th {\n",
       "        vertical-align: top;\n",
       "    }\n",
       "\n",
       "    .dataframe thead th {\n",
       "        text-align: right;\n",
       "    }\n",
       "</style>\n",
       "<table border=\"1\" class=\"dataframe\">\n",
       "  <thead>\n",
       "    <tr style=\"text-align: right;\">\n",
       "      <th></th>\n",
       "      <th>表章項目</th>\n",
       "      <th>表章項目_階層</th>\n",
       "      <th>男女別</th>\n",
       "      <th>男女別_階層</th>\n",
       "      <th>人口</th>\n",
       "      <th>人口_階層</th>\n",
       "      <th>全国・都道府県</th>\n",
       "      <th>全国・都道府県_階層</th>\n",
       "      <th>時間軸（年）</th>\n",
       "      <th>時間軸（年）_階層</th>\n",
       "      <th>単位</th>\n",
       "      <th>値</th>\n",
       "    </tr>\n",
       "  </thead>\n",
       "  <tbody>\n",
       "    <tr>\n",
       "      <th>0</th>\n",
       "      <td>人口</td>\n",
       "      <td>NaN</td>\n",
       "      <td>男女計</td>\n",
       "      <td>1</td>\n",
       "      <td>総人口</td>\n",
       "      <td>1</td>\n",
       "      <td>全国</td>\n",
       "      <td>1</td>\n",
       "      <td>2005年</td>\n",
       "      <td>1</td>\n",
       "      <td>千人</td>\n",
       "      <td>127768</td>\n",
       "    </tr>\n",
       "    <tr>\n",
       "      <th>1</th>\n",
       "      <td>人口</td>\n",
       "      <td>NaN</td>\n",
       "      <td>男女計</td>\n",
       "      <td>1</td>\n",
       "      <td>総人口</td>\n",
       "      <td>1</td>\n",
       "      <td>全国</td>\n",
       "      <td>1</td>\n",
       "      <td>2010年</td>\n",
       "      <td>1</td>\n",
       "      <td>千人</td>\n",
       "      <td>128057</td>\n",
       "    </tr>\n",
       "    <tr>\n",
       "      <th>2</th>\n",
       "      <td>人口</td>\n",
       "      <td>NaN</td>\n",
       "      <td>男女計</td>\n",
       "      <td>1</td>\n",
       "      <td>総人口</td>\n",
       "      <td>1</td>\n",
       "      <td>全国</td>\n",
       "      <td>1</td>\n",
       "      <td>2015年</td>\n",
       "      <td>1</td>\n",
       "      <td>千人</td>\n",
       "      <td>127095</td>\n",
       "    </tr>\n",
       "    <tr>\n",
       "      <th>3</th>\n",
       "      <td>人口</td>\n",
       "      <td>NaN</td>\n",
       "      <td>男女計</td>\n",
       "      <td>1</td>\n",
       "      <td>総人口</td>\n",
       "      <td>1</td>\n",
       "      <td>全国</td>\n",
       "      <td>1</td>\n",
       "      <td>2020年</td>\n",
       "      <td>1</td>\n",
       "      <td>千人</td>\n",
       "      <td>126146</td>\n",
       "    </tr>\n",
       "    <tr>\n",
       "      <th>4</th>\n",
       "      <td>人口</td>\n",
       "      <td>NaN</td>\n",
       "      <td>男女計</td>\n",
       "      <td>1</td>\n",
       "      <td>総人口</td>\n",
       "      <td>1</td>\n",
       "      <td>全国</td>\n",
       "      <td>1</td>\n",
       "      <td>2021年</td>\n",
       "      <td>1</td>\n",
       "      <td>千人</td>\n",
       "      <td>125502</td>\n",
       "    </tr>\n",
       "  </tbody>\n",
       "</table>\n",
       "</div>"
      ],
      "text/plain": [
       "  表章項目  表章項目_階層  男女別  男女別_階層   人口  人口_階層 全国・都道府県  全国・都道府県_階層 時間軸（年）  \\\n",
       "0   人口      NaN  男女計       1  総人口      1      全国           1  2005年   \n",
       "1   人口      NaN  男女計       1  総人口      1      全国           1  2010年   \n",
       "2   人口      NaN  男女計       1  総人口      1      全国           1  2015年   \n",
       "3   人口      NaN  男女計       1  総人口      1      全国           1  2020年   \n",
       "4   人口      NaN  男女計       1  総人口      1      全国           1  2021年   \n",
       "\n",
       "   時間軸（年）_階層  単位       値  \n",
       "0          1  千人  127768  \n",
       "1          1  千人  128057  \n",
       "2          1  千人  127095  \n",
       "3          1  千人  126146  \n",
       "4          1  千人  125502  "
      ]
     },
     "execution_count": 3,
     "metadata": {},
     "output_type": "execute_result"
    }
   ],
   "source": [
    "df_population = pd.read_csv(DATA_DIR / \"population.csv\")\n",
    "df_population.head()"
   ]
  },
  {
   "cell_type": "markdown",
   "metadata": {},
   "source": [
    "### 前処理"
   ]
  },
  {
   "cell_type": "code",
   "execution_count": 4,
   "metadata": {},
   "outputs": [],
   "source": [
    "def process_population(df_population: pd.DataFrame) -> pd.DataFrame:\n",
    "    df = df_population.copy()\n",
    "\n",
    "    # 全国のレコードを削除する\n",
    "    df = df[~df[\"全国・都道府県\"].eq(\"全国\")].reset_index(drop=True)\n",
    "\n",
    "    # 不要なカラムを削除する\n",
    "    columns_to_drop = [\n",
    "        \"表章項目\",\n",
    "        \"表章項目_階層\",\n",
    "        \"男女別_階層\",\n",
    "        \"人口_階層\",\n",
    "        \"全国・都道府県_階層\",\n",
    "        \"時間軸（年）_階層\",\n",
    "        \"単位\",\n",
    "    ]\n",
    "    df.drop(columns=columns_to_drop, inplace=True)\n",
    "\n",
    "    # 扱いやすいようにカラム名を変更する\n",
    "    column_mapper = {\n",
    "        \"男女別\": \"gender\",\n",
    "        \"人口\": \"type\",\n",
    "        \"全国・都道府県\": \"prefecture\",\n",
    "        \"時間軸（年）\": \"year\",\n",
    "        \"値\": \"population\",\n",
    "    }\n",
    "    df = df.rename(columns=column_mapper)\n",
    "\n",
    "    # データ型を変更する\n",
    "    dtypes = {\n",
    "        \"gender\": \"category\",\n",
    "        \"type\": \"category\",\n",
    "        \"prefecture\": \"category\",\n",
    "        \"year\": \"category\",\n",
    "        \"population\": \"int\",\n",
    "    }\n",
    "    df = df.astype(dtypes)\n",
    "\n",
    "    return df"
   ]
  },
  {
   "cell_type": "code",
   "execution_count": 5,
   "metadata": {},
   "outputs": [
    {
     "name": "stdout",
     "output_type": "stream",
     "text": [
      "<class 'pandas.core.frame.DataFrame'>\n",
      "RangeIndex: 1974 entries, 0 to 1973\n",
      "Data columns (total 5 columns):\n",
      " #   Column      Non-Null Count  Dtype   \n",
      "---  ------      --------------  -----   \n",
      " 0   gender      1974 non-null   category\n",
      " 1   type        1974 non-null   category\n",
      " 2   prefecture  1974 non-null   category\n",
      " 3   year        1974 non-null   category\n",
      " 4   population  1974 non-null   int64   \n",
      "dtypes: category(4), int64(1)\n",
      "memory usage: 25.3 KB\n"
     ]
    },
    {
     "data": {
      "text/html": [
       "<div>\n",
       "<style scoped>\n",
       "    .dataframe tbody tr th:only-of-type {\n",
       "        vertical-align: middle;\n",
       "    }\n",
       "\n",
       "    .dataframe tbody tr th {\n",
       "        vertical-align: top;\n",
       "    }\n",
       "\n",
       "    .dataframe thead th {\n",
       "        text-align: right;\n",
       "    }\n",
       "</style>\n",
       "<table border=\"1\" class=\"dataframe\">\n",
       "  <thead>\n",
       "    <tr style=\"text-align: right;\">\n",
       "      <th></th>\n",
       "      <th>gender</th>\n",
       "      <th>type</th>\n",
       "      <th>prefecture</th>\n",
       "      <th>year</th>\n",
       "      <th>population</th>\n",
       "    </tr>\n",
       "  </thead>\n",
       "  <tbody>\n",
       "    <tr>\n",
       "      <th>0</th>\n",
       "      <td>男女計</td>\n",
       "      <td>総人口</td>\n",
       "      <td>北海道</td>\n",
       "      <td>2005年</td>\n",
       "      <td>5628</td>\n",
       "    </tr>\n",
       "    <tr>\n",
       "      <th>1</th>\n",
       "      <td>男女計</td>\n",
       "      <td>総人口</td>\n",
       "      <td>北海道</td>\n",
       "      <td>2010年</td>\n",
       "      <td>5506</td>\n",
       "    </tr>\n",
       "    <tr>\n",
       "      <th>2</th>\n",
       "      <td>男女計</td>\n",
       "      <td>総人口</td>\n",
       "      <td>北海道</td>\n",
       "      <td>2015年</td>\n",
       "      <td>5382</td>\n",
       "    </tr>\n",
       "    <tr>\n",
       "      <th>3</th>\n",
       "      <td>男女計</td>\n",
       "      <td>総人口</td>\n",
       "      <td>北海道</td>\n",
       "      <td>2020年</td>\n",
       "      <td>5225</td>\n",
       "    </tr>\n",
       "    <tr>\n",
       "      <th>4</th>\n",
       "      <td>男女計</td>\n",
       "      <td>総人口</td>\n",
       "      <td>北海道</td>\n",
       "      <td>2021年</td>\n",
       "      <td>5183</td>\n",
       "    </tr>\n",
       "  </tbody>\n",
       "</table>\n",
       "</div>"
      ],
      "text/plain": [
       "  gender type prefecture   year  population\n",
       "0    男女計  総人口        北海道  2005年        5628\n",
       "1    男女計  総人口        北海道  2010年        5506\n",
       "2    男女計  総人口        北海道  2015年        5382\n",
       "3    男女計  総人口        北海道  2020年        5225\n",
       "4    男女計  総人口        北海道  2021年        5183"
      ]
     },
     "execution_count": 5,
     "metadata": {},
     "output_type": "execute_result"
    }
   ],
   "source": [
    "df_population_processed = process_population(df_population)\n",
    "df_population_processed.info()\n",
    "df_population_processed.head()"
   ]
  },
  {
   "cell_type": "markdown",
   "metadata": {},
   "source": [
    "### 書き出し"
   ]
  },
  {
   "cell_type": "code",
   "execution_count": 6,
   "metadata": {},
   "outputs": [],
   "source": [
    "df_population_processed.to_pickle(PROCESSED_DATA_DIR / \"df_population.pickle\")"
   ]
  },
  {
   "cell_type": "markdown",
   "metadata": {},
   "source": [
    "## 行政区画データ"
   ]
  },
  {
   "cell_type": "markdown",
   "metadata": {},
   "source": [
    "### 読み込み"
   ]
  },
  {
   "cell_type": "code",
   "execution_count": 7,
   "metadata": {},
   "outputs": [],
   "source": [
    "gdf_japan = gpd.read_file(DATA_DIR / \"N03-23_230101.geojson\")"
   ]
  },
  {
   "cell_type": "code",
   "execution_count": 8,
   "metadata": {},
   "outputs": [
    {
     "name": "stdout",
     "output_type": "stream",
     "text": [
      "<class 'geopandas.geodataframe.GeoDataFrame'>\n",
      "RangeIndex: 122929 entries, 0 to 122928\n",
      "Data columns (total 6 columns):\n",
      " #   Column    Non-Null Count   Dtype   \n",
      "---  ------    --------------   -----   \n",
      " 0   N03_001   122929 non-null  object  \n",
      " 1   N03_002   9575 non-null    object  \n",
      " 2   N03_003   51485 non-null   object  \n",
      " 3   N03_004   122929 non-null  object  \n",
      " 4   N03_007   122929 non-null  object  \n",
      " 5   geometry  122929 non-null  geometry\n",
      "dtypes: geometry(1), object(5)\n",
      "memory usage: 5.6+ MB\n"
     ]
    }
   ],
   "source": [
    "gdf_japan.info()"
   ]
  },
  {
   "cell_type": "code",
   "execution_count": 9,
   "metadata": {},
   "outputs": [
    {
     "data": {
      "text/html": [
       "<div>\n",
       "<style scoped>\n",
       "    .dataframe tbody tr th:only-of-type {\n",
       "        vertical-align: middle;\n",
       "    }\n",
       "\n",
       "    .dataframe tbody tr th {\n",
       "        vertical-align: top;\n",
       "    }\n",
       "\n",
       "    .dataframe thead th {\n",
       "        text-align: right;\n",
       "    }\n",
       "</style>\n",
       "<table border=\"1\" class=\"dataframe\">\n",
       "  <thead>\n",
       "    <tr style=\"text-align: right;\">\n",
       "      <th></th>\n",
       "      <th>N03_001</th>\n",
       "      <th>N03_002</th>\n",
       "      <th>N03_003</th>\n",
       "      <th>N03_004</th>\n",
       "      <th>N03_007</th>\n",
       "      <th>geometry</th>\n",
       "    </tr>\n",
       "  </thead>\n",
       "  <tbody>\n",
       "    <tr>\n",
       "      <th>0</th>\n",
       "      <td>北海道</td>\n",
       "      <td>石狩振興局</td>\n",
       "      <td>札幌市</td>\n",
       "      <td>札幌市中央区</td>\n",
       "      <td>01101</td>\n",
       "      <td>POLYGON ((141.34233 43.06682, 141.34285 43.066...</td>\n",
       "    </tr>\n",
       "    <tr>\n",
       "      <th>1</th>\n",
       "      <td>北海道</td>\n",
       "      <td>石狩振興局</td>\n",
       "      <td>札幌市</td>\n",
       "      <td>札幌市北区</td>\n",
       "      <td>01102</td>\n",
       "      <td>POLYGON ((141.40839 43.18395, 141.40833 43.183...</td>\n",
       "    </tr>\n",
       "    <tr>\n",
       "      <th>2</th>\n",
       "      <td>北海道</td>\n",
       "      <td>石狩振興局</td>\n",
       "      <td>札幌市</td>\n",
       "      <td>札幌市東区</td>\n",
       "      <td>01103</td>\n",
       "      <td>POLYGON ((141.44707 43.15616, 141.44694 43.155...</td>\n",
       "    </tr>\n",
       "  </tbody>\n",
       "</table>\n",
       "</div>"
      ],
      "text/plain": [
       "  N03_001 N03_002 N03_003 N03_004 N03_007  \\\n",
       "0     北海道   石狩振興局     札幌市  札幌市中央区   01101   \n",
       "1     北海道   石狩振興局     札幌市   札幌市北区   01102   \n",
       "2     北海道   石狩振興局     札幌市   札幌市東区   01103   \n",
       "\n",
       "                                            geometry  \n",
       "0  POLYGON ((141.34233 43.06682, 141.34285 43.066...  \n",
       "1  POLYGON ((141.40839 43.18395, 141.40833 43.183...  \n",
       "2  POLYGON ((141.44707 43.15616, 141.44694 43.155...  "
      ]
     },
     "execution_count": 9,
     "metadata": {},
     "output_type": "execute_result"
    }
   ],
   "source": [
    "gdf_japan.head(3)"
   ]
  },
  {
   "cell_type": "code",
   "execution_count": 24,
   "metadata": {},
   "outputs": [],
   "source": [
    "def process_geo_data(gdf: gpd.GeoDataFrame) -> gpd.GeoDataFrame:\n",
    "    # 必要なカラムのみ残す\n",
    "    columns_to_keep = [\"N03_001\", \"geometry\"]\n",
    "    gdf = gdf[columns_to_keep]\n",
    "\n",
    "    # 扱いやすいようにカラム名を変更する\n",
    "    gdf = gdf.rename(columns={\"N03_001\": \"prefecture\"})\n",
    "\n",
    "    # 都道府県単位にPolygonをまとめる\n",
    "    gdf = gdf.dissolve(by=\"prefecture\", as_index=False)\n",
    "\n",
    "    return gdf"
   ]
  },
  {
   "cell_type": "code",
   "execution_count": 25,
   "metadata": {},
   "outputs": [
    {
     "name": "stdout",
     "output_type": "stream",
     "text": [
      "<class 'geopandas.geodataframe.GeoDataFrame'>\n",
      "RangeIndex: 47 entries, 0 to 46\n",
      "Data columns (total 2 columns):\n",
      " #   Column      Non-Null Count  Dtype   \n",
      "---  ------      --------------  -----   \n",
      " 0   prefecture  47 non-null     object  \n",
      " 1   geometry    47 non-null     geometry\n",
      "dtypes: geometry(1), object(1)\n",
      "memory usage: 884.0+ bytes\n"
     ]
    },
    {
     "data": {
      "text/html": [
       "<div>\n",
       "<style scoped>\n",
       "    .dataframe tbody tr th:only-of-type {\n",
       "        vertical-align: middle;\n",
       "    }\n",
       "\n",
       "    .dataframe tbody tr th {\n",
       "        vertical-align: top;\n",
       "    }\n",
       "\n",
       "    .dataframe thead th {\n",
       "        text-align: right;\n",
       "    }\n",
       "</style>\n",
       "<table border=\"1\" class=\"dataframe\">\n",
       "  <thead>\n",
       "    <tr style=\"text-align: right;\">\n",
       "      <th></th>\n",
       "      <th>prefecture</th>\n",
       "      <th>geometry</th>\n",
       "    </tr>\n",
       "  </thead>\n",
       "  <tbody>\n",
       "    <tr>\n",
       "      <th>0</th>\n",
       "      <td>三重県</td>\n",
       "      <td>MULTIPOLYGON (((136.02153 33.73432, 136.02155 ...</td>\n",
       "    </tr>\n",
       "    <tr>\n",
       "      <th>1</th>\n",
       "      <td>京都府</td>\n",
       "      <td>MULTIPOLYGON (((134.89366 35.64870, 134.89369 ...</td>\n",
       "    </tr>\n",
       "    <tr>\n",
       "      <th>2</th>\n",
       "      <td>佐賀県</td>\n",
       "      <td>MULTIPOLYGON (((129.78922 33.44450, 129.78926 ...</td>\n",
       "    </tr>\n",
       "    <tr>\n",
       "      <th>3</th>\n",
       "      <td>兵庫県</td>\n",
       "      <td>MULTIPOLYGON (((134.38285 34.71977, 134.38285 ...</td>\n",
       "    </tr>\n",
       "    <tr>\n",
       "      <th>4</th>\n",
       "      <td>北海道</td>\n",
       "      <td>MULTIPOLYGON (((139.34070 41.49478, 139.34066 ...</td>\n",
       "    </tr>\n",
       "  </tbody>\n",
       "</table>\n",
       "</div>"
      ],
      "text/plain": [
       "  prefecture                                           geometry\n",
       "0        三重県  MULTIPOLYGON (((136.02153 33.73432, 136.02155 ...\n",
       "1        京都府  MULTIPOLYGON (((134.89366 35.64870, 134.89369 ...\n",
       "2        佐賀県  MULTIPOLYGON (((129.78922 33.44450, 129.78926 ...\n",
       "3        兵庫県  MULTIPOLYGON (((134.38285 34.71977, 134.38285 ...\n",
       "4        北海道  MULTIPOLYGON (((139.34070 41.49478, 139.34066 ..."
      ]
     },
     "execution_count": 25,
     "metadata": {},
     "output_type": "execute_result"
    }
   ],
   "source": [
    "gdf_japan_processed = process_geo_data(gdf_japan)\n",
    "gdf_japan_processed.info()\n",
    "gdf_japan_processed.head()"
   ]
  },
  {
   "cell_type": "markdown",
   "metadata": {},
   "source": [
    "試しにプロットしてみる"
   ]
  },
  {
   "cell_type": "code",
   "execution_count": 28,
   "metadata": {},
   "outputs": [
    {
     "data": {
      "text/plain": [
       "<Axes: >"
      ]
     },
     "execution_count": 28,
     "metadata": {},
     "output_type": "execute_result"
    },
    {
     "data": {
      "image/png": "[encoded data removed]",
      "text/plain": [
       "<Figure size 640x480 with 1 Axes>"
      ]
     },
     "metadata": {},
     "output_type": "display_data"
    }
   ],
   "source": [
    "shikoku = [\"愛媛県\", \"香川県\", \"徳島県\", \"高知県\"]\n",
    "gdf_japan_processed[gdf_japan_processed[\"prefecture\"].isin(shikoku)].plot()"
   ]
  },
  {
   "cell_type": "markdown",
   "metadata": {},
   "source": [
    "### 書き出し"
   ]
  },
  {
   "cell_type": "code",
   "execution_count": 29,
   "metadata": {},
   "outputs": [],
   "source": [
    "gdf_japan_processed.to_file(\n",
    "    PROCESSED_DATA_DIR / \"prefectures.geojson\", driver=\"GeoJSON\"\n",
    ")"
   ]
  }
 ],
 "metadata": {
  "kernelspec": {
   "display_name": "Python 3",
   "language": "python",
   "name": "python3"
  },
  "language_info": {
   "codemirror_mode": {
    "name": "ipython",
    "version": 3
   },
   "file_extension": ".py",
   "mimetype": "text/x-python",
   "name": "python",
   "nbconvert_exporter": "python",
   "pygments_lexer": "ipython3",
   "version": "3.11.8"
  }
 },
 "nbformat": 4,
 "nbformat_minor": 2
}
