{
 "cells": [
  {
   "cell_type": "markdown",
   "metadata": {},
   "source": [
    "# データ取得"
   ]
  },
  {
   "cell_type": "markdown",
   "metadata": {},
   "source": [
    "## インポート・設定"
   ]
  },
  {
   "cell_type": "code",
   "execution_count": 50,
   "metadata": {},
   "outputs": [],
   "source": [
    "from pathlib import Path\n",
    "import urllib.request\n",
    "import zipfile\n",
    "from pprint import pprint\n",
    "\n",
    "import estatapi\n",
    "from dotenv import dotenv_values"
   ]
  },
  {
   "cell_type": "code",
   "execution_count": 33,
   "metadata": {},
   "outputs": [],
   "source": [
    "APPID = dotenv_values()[\"ESTAT_APPID\"]\n",
    "estatapi.set_appid(APPID)\n",
    "\n",
    "DATA_DIR = Path(\"./data\")"
   ]
  },
  {
   "cell_type": "markdown",
   "metadata": {},
   "source": [
    "## データ取得"
   ]
  },
  {
   "cell_type": "markdown",
   "metadata": {},
   "source": [
    "### 人口データ"
   ]
  },
  {
   "cell_type": "markdown",
   "metadata": {},
   "source": [
    "[人口推計 \\| 政府統計の総合窓口](https://www.e-stat.go.jp/statistics/00200524)\n",
    "\n",
    "[人口推計 各年10月1日現在人口 令和２年国勢調査基準 統計表005 都道府県，男女別人口－総人口，日本人人口 \\| 統計表・グラフ表示 \\| 政府統計の総合窓口](https://www.e-stat.go.jp/dbview?sid=0003448232)"
   ]
  },
  {
   "cell_type": "code",
   "execution_count": 29,
   "metadata": {},
   "outputs": [],
   "source": [
    "statsDataId = \"0003448232\""
   ]
  },
  {
   "cell_type": "markdown",
   "metadata": {},
   "source": [
    "データを取得する"
   ]
  },
  {
   "cell_type": "code",
   "execution_count": 30,
   "metadata": {},
   "outputs": [
    {
     "data": {
      "text/html": [
       "<div>\n",
       "<style scoped>\n",
       "    .dataframe tbody tr th:only-of-type {\n",
       "        vertical-align: middle;\n",
       "    }\n",
       "\n",
       "    .dataframe tbody tr th {\n",
       "        vertical-align: top;\n",
       "    }\n",
       "\n",
       "    .dataframe thead th {\n",
       "        text-align: right;\n",
       "    }\n",
       "</style>\n",
       "<table border=\"1\" class=\"dataframe\">\n",
       "  <thead>\n",
       "    <tr style=\"text-align: right;\">\n",
       "      <th></th>\n",
       "      <th>表章項目</th>\n",
       "      <th>表章項目_階層</th>\n",
       "      <th>男女別</th>\n",
       "      <th>男女別_階層</th>\n",
       "      <th>人口</th>\n",
       "      <th>人口_階層</th>\n",
       "      <th>全国・都道府県</th>\n",
       "      <th>全国・都道府県_階層</th>\n",
       "      <th>時間軸（年）</th>\n",
       "      <th>時間軸（年）_階層</th>\n",
       "      <th>単位</th>\n",
       "      <th>値</th>\n",
       "    </tr>\n",
       "  </thead>\n",
       "  <tbody>\n",
       "    <tr>\n",
       "      <th>0</th>\n",
       "      <td>人口</td>\n",
       "      <td></td>\n",
       "      <td>男女計</td>\n",
       "      <td>1</td>\n",
       "      <td>総人口</td>\n",
       "      <td>1</td>\n",
       "      <td>全国</td>\n",
       "      <td>1</td>\n",
       "      <td>2005年</td>\n",
       "      <td>1</td>\n",
       "      <td>千人</td>\n",
       "      <td>127768</td>\n",
       "    </tr>\n",
       "    <tr>\n",
       "      <th>1</th>\n",
       "      <td>人口</td>\n",
       "      <td></td>\n",
       "      <td>男女計</td>\n",
       "      <td>1</td>\n",
       "      <td>総人口</td>\n",
       "      <td>1</td>\n",
       "      <td>全国</td>\n",
       "      <td>1</td>\n",
       "      <td>2010年</td>\n",
       "      <td>1</td>\n",
       "      <td>千人</td>\n",
       "      <td>128057</td>\n",
       "    </tr>\n",
       "    <tr>\n",
       "      <th>2</th>\n",
       "      <td>人口</td>\n",
       "      <td></td>\n",
       "      <td>男女計</td>\n",
       "      <td>1</td>\n",
       "      <td>総人口</td>\n",
       "      <td>1</td>\n",
       "      <td>全国</td>\n",
       "      <td>1</td>\n",
       "      <td>2015年</td>\n",
       "      <td>1</td>\n",
       "      <td>千人</td>\n",
       "      <td>127095</td>\n",
       "    </tr>\n",
       "    <tr>\n",
       "      <th>3</th>\n",
       "      <td>人口</td>\n",
       "      <td></td>\n",
       "      <td>男女計</td>\n",
       "      <td>1</td>\n",
       "      <td>総人口</td>\n",
       "      <td>1</td>\n",
       "      <td>全国</td>\n",
       "      <td>1</td>\n",
       "      <td>2020年</td>\n",
       "      <td>1</td>\n",
       "      <td>千人</td>\n",
       "      <td>126146</td>\n",
       "    </tr>\n",
       "    <tr>\n",
       "      <th>4</th>\n",
       "      <td>人口</td>\n",
       "      <td></td>\n",
       "      <td>男女計</td>\n",
       "      <td>1</td>\n",
       "      <td>総人口</td>\n",
       "      <td>1</td>\n",
       "      <td>全国</td>\n",
       "      <td>1</td>\n",
       "      <td>2021年</td>\n",
       "      <td>1</td>\n",
       "      <td>千人</td>\n",
       "      <td>125502</td>\n",
       "    </tr>\n",
       "  </tbody>\n",
       "</table>\n",
       "</div>"
      ],
      "text/plain": [
       "  表章項目 表章項目_階層  男女別 男女別_階層   人口 人口_階層 全国・都道府県 全国・都道府県_階層 時間軸（年） 時間軸（年）_階層  単位  \\\n",
       "0   人口          男女計      1  総人口     1      全国          1  2005年         1  千人   \n",
       "1   人口          男女計      1  総人口     1      全国          1  2010年         1  千人   \n",
       "2   人口          男女計      1  総人口     1      全国          1  2015年         1  千人   \n",
       "3   人口          男女計      1  総人口     1      全国          1  2020年         1  千人   \n",
       "4   人口          男女計      1  総人口     1      全国          1  2021年         1  千人   \n",
       "\n",
       "        値  \n",
       "0  127768  \n",
       "1  128057  \n",
       "2  127095  \n",
       "3  126146  \n",
       "4  125502  "
      ]
     },
     "execution_count": 30,
     "metadata": {},
     "output_type": "execute_result"
    }
   ],
   "source": [
    "stats_data_response = estatapi.get_stats_data(statsDataId=statsDataId)\n",
    "df_stats_data = estatapi.stats_data_to_pandas(stats_data_response.json())\n",
    "df_stats_data.head()"
   ]
  },
  {
   "cell_type": "markdown",
   "metadata": {},
   "source": [
    "csvで保存する"
   ]
  },
  {
   "cell_type": "code",
   "execution_count": 34,
   "metadata": {},
   "outputs": [],
   "source": [
    "df_stats_data.to_csv(DATA_DIR / \"population.csv\", index=False)"
   ]
  },
  {
   "cell_type": "markdown",
   "metadata": {},
   "source": [
    "### 行政区画データ"
   ]
  },
  {
   "cell_type": "markdown",
   "metadata": {},
   "source": [
    "行政区画のデータを取得する\n",
    "\n",
    "[国土数値情報 \\| 行政区域データ](https://nlftp.mlit.go.jp/ksj/gml/datalist/KsjTmplt-N03-v3_1.html)"
   ]
  },
  {
   "cell_type": "code",
   "execution_count": 47,
   "metadata": {},
   "outputs": [],
   "source": [
    "url = \"https://nlftp.mlit.go.jp/ksj/gml/data/N03/N03-2023/N03-20230101_GML.zip\"\n",
    "download_path = DATA_DIR / Path(url).name\n",
    "urllib.request.urlretrieve(url=url, filename=download_path)"
   ]
  },
  {
   "cell_type": "markdown",
   "metadata": {},
   "source": [
    "zipファイルの中身を確認"
   ]
  },
  {
   "cell_type": "code",
   "execution_count": 52,
   "metadata": {},
   "outputs": [
    {
     "name": "stdout",
     "output_type": "stream",
     "text": [
      "['KS-META-N03-23_230101.xml',\n",
      " 'N03-23_230101.dbf',\n",
      " 'N03-23_230101.geojson',\n",
      " 'N03-23_230101.prj',\n",
      " 'N03-23_230101.shp',\n",
      " 'N03-23_230101.shx',\n",
      " 'N03-23_230101.xml']\n"
     ]
    }
   ],
   "source": [
    "with zipfile.ZipFile(download_path) as zf:\n",
    "    namelist = zf.namelist()\n",
    "pprint(namelist)"
   ]
  },
  {
   "cell_type": "markdown",
   "metadata": {},
   "source": [
    "geojsonファイルを取り出す"
   ]
  },
  {
   "cell_type": "code",
   "execution_count": 54,
   "metadata": {},
   "outputs": [
    {
     "data": {
      "text/plain": [
       "'N03-23_230101.geojson'"
      ]
     },
     "execution_count": 54,
     "metadata": {},
     "output_type": "execute_result"
    }
   ],
   "source": [
    "geojson_filename = [name for name in namelist if name.endswith(\".geojson\")][0]\n",
    "geojson_filename"
   ]
  },
  {
   "cell_type": "code",
   "execution_count": 55,
   "metadata": {},
   "outputs": [],
   "source": [
    "with zipfile.ZipFile(download_path) as zf:\n",
    "    zf.extract(geojson_filename, DATA_DIR)"
   ]
  }
 ],
 "metadata": {
  "kernelspec": {
   "display_name": "Python 3",
   "language": "python",
   "name": "python3"
  },
  "language_info": {
   "codemirror_mode": {
    "name": "ipython",
    "version": 3
   },
   "file_extension": ".py",
   "mimetype": "text/x-python",
   "name": "python",
   "nbconvert_exporter": "python",
   "pygments_lexer": "ipython3",
   "version": "3.11.8"
  }
 },
 "nbformat": 4,
 "nbformat_minor": 2
}
