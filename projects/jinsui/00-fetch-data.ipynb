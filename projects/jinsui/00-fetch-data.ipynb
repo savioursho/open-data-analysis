{
 "cells": [
  {
   "cell_type": "markdown",
   "metadata": {},
   "source": [
    "# データ取得"
   ]
  },
  {
   "cell_type": "markdown",
   "metadata": {},
   "source": [
    "## インポート・設定"
   ]
  },
  {
   "cell_type": "code",
   "execution_count": 1,
   "metadata": {},
   "outputs": [],
   "source": [
    "%load_ext autoreload\n",
    "%autoreload 2"
   ]
  },
  {
   "cell_type": "code",
   "execution_count": 15,
   "metadata": {},
   "outputs": [],
   "source": [
    "import os\n",
    "from pathlib import Path\n",
    "from pprint import pprint\n",
    "\n",
    "from dotenv import load_dotenv\n",
    "from src import estatapi"
   ]
  },
  {
   "cell_type": "code",
   "execution_count": 16,
   "metadata": {},
   "outputs": [],
   "source": [
    "# .envファイルからe-StatのAPP IDを読み込む\n",
    "assert load_dotenv()\n",
    "APPID = os.environ[\"ESTAT_APPID\"]\n",
    "\n",
    "# データ保存先ディレクトリを設定する\n",
    "DATADIR = Path(\"./data\")"
   ]
  },
  {
   "cell_type": "markdown",
   "metadata": {},
   "source": [
    "## データ取得"
   ]
  },
  {
   "cell_type": "markdown",
   "metadata": {},
   "source": [
    "メタデータを取得する"
   ]
  },
  {
   "cell_type": "code",
   "execution_count": 10,
   "metadata": {},
   "outputs": [
    {
     "name": "stdout",
     "output_type": "stream",
     "text": [
      "{'GET_META_INFO': {'METADATA_INF': {'CLASS_INF': {'CLASS_OBJ': [...]},\n",
      "                                    'TABLE_INF': {'@id': '0004001660',\n",
      "                                                  'COLLECT_AREA': '該当なし',\n",
      "                                                  'CYCLE': '年次',\n",
      "                                                  'DESCRIPTION': '',\n",
      "                                                  'GOV_ORG': {...},\n",
      "                                                  'MAIN_CATEGORY': {...},\n",
      "                                                  'OPEN_DATE': '2023-04-12',\n",
      "                                                  'OVERALL_TOTAL_NUMBER': 2736,\n",
      "                                                  'SMALL_AREA': 0,\n",
      "                                                  'STATISTICS_NAME': '人口推計 '\n",
      "                                                                     '各年10月1日現在人口 '\n",
      "                                                                     '令和２年国勢調査基準 '\n",
      "                                                                     '参考表',\n",
      "                                                  'STATISTICS_NAME_SPEC': {...},\n",
      "                                                  'STAT_NAME': {...},\n",
      "                                                  'SUB_CATEGORY': {...},\n",
      "                                                  'SURVEY_DATE': 202210,\n",
      "                                                  'TITLE': {...},\n",
      "                                                  'TITLE_SPEC': {...},\n",
      "                                                  'UPDATED_DATE': '2023-11-06'}},\n",
      "                   'PARAMETER': {'DATA_FORMAT': 'J',\n",
      "                                 'LANG': 'J',\n",
      "                                 'STATS_DATA_ID': '0004001660'},\n",
      "                   'RESULT': {'DATE': '2024-03-30T18:36:57.753+09:00',\n",
      "                              'ERROR_MSG': '正常に終了しました。',\n",
      "                              'STATUS': 0}}}\n"
     ]
    }
   ],
   "source": [
    "statsDataId = \"0004001660\"\n",
    "meta_info = estatapi.get_meta_info(\n",
    "    appId=APPID,\n",
    "    statsDataId=statsDataId,\n",
    ")\n",
    "pprint(meta_info, depth=4)"
   ]
  },
  {
   "cell_type": "markdown",
   "metadata": {},
   "source": [
    "統計データを取得する"
   ]
  },
  {
   "cell_type": "code",
   "execution_count": 12,
   "metadata": {},
   "outputs": [
    {
     "name": "stdout",
     "output_type": "stream",
     "text": [
      "{'GET_STATS_DATA': {'PARAMETER': {'ANNOTATION_GET_FLG': 'Y',\n",
      "                                  'CNT_GET_FLG': 'N',\n",
      "                                  'DATA_FORMAT': 'J',\n",
      "                                  'EXPLANATION_GET_FLG': 'Y',\n",
      "                                  'LANG': 'J',\n",
      "                                  'LIMIT': 100000,\n",
      "                                  'METAGET_FLG': 'Y',\n",
      "                                  'SECTION_HEADER_FLG': 1,\n",
      "                                  'START_POSITION': 1,\n",
      "                                  'STATS_DATA_ID': '0004001660'},\n",
      "                    'RESULT': {'DATE': '2024-03-30T18:37:27.308+09:00',\n",
      "                               'ERROR_MSG': '正常に終了しました。',\n",
      "                               'STATUS': 0},\n",
      "                    'STATISTICAL_DATA': {'CLASS_INF': {...},\n",
      "                                         'DATA_INF': {...},\n",
      "                                         'RESULT_INF': {...},\n",
      "                                         'TABLE_INF': {...}}}}\n"
     ]
    }
   ],
   "source": [
    "data = estatapi.get_stats_data(\n",
    "    appId=APPID,\n",
    "    statsDataId=statsDataId,\n",
    ")\n",
    "pprint(data, depth=3)"
   ]
  },
  {
   "cell_type": "markdown",
   "metadata": {},
   "source": [
    "メタデータと統計データからデータフレームを作成する"
   ]
  },
  {
   "cell_type": "code",
   "execution_count": 17,
   "metadata": {},
   "outputs": [
    {
     "data": {
      "text/html": [
       "<div>\n",
       "<style scoped>\n",
       "    .dataframe tbody tr th:only-of-type {\n",
       "        vertical-align: middle;\n",
       "    }\n",
       "\n",
       "    .dataframe tbody tr th {\n",
       "        vertical-align: top;\n",
       "    }\n",
       "\n",
       "    .dataframe thead th {\n",
       "        text-align: right;\n",
       "    }\n",
       "</style>\n",
       "<table border=\"1\" class=\"dataframe\">\n",
       "  <thead>\n",
       "    <tr style=\"text-align: right;\">\n",
       "      <th></th>\n",
       "      <th>表章項目</th>\n",
       "      <th>年齢5歳階級</th>\n",
       "      <th>男女別</th>\n",
       "      <th>全国・都道府県</th>\n",
       "      <th>時間軸（年月日現在）</th>\n",
       "      <th>@unit</th>\n",
       "      <th>$</th>\n",
       "    </tr>\n",
       "  </thead>\n",
       "  <tbody>\n",
       "    <tr>\n",
       "      <th>0</th>\n",
       "      <td>人口</td>\n",
       "      <td>総数</td>\n",
       "      <td>男女計</td>\n",
       "      <td>全国</td>\n",
       "      <td>2022年10月1日現在</td>\n",
       "      <td>人</td>\n",
       "      <td>124946789</td>\n",
       "    </tr>\n",
       "    <tr>\n",
       "      <th>1</th>\n",
       "      <td>人口</td>\n",
       "      <td>総数</td>\n",
       "      <td>男女計</td>\n",
       "      <td>北海道</td>\n",
       "      <td>2022年10月1日現在</td>\n",
       "      <td>人</td>\n",
       "      <td>5140354</td>\n",
       "    </tr>\n",
       "    <tr>\n",
       "      <th>2</th>\n",
       "      <td>人口</td>\n",
       "      <td>総数</td>\n",
       "      <td>男女計</td>\n",
       "      <td>青森県</td>\n",
       "      <td>2022年10月1日現在</td>\n",
       "      <td>人</td>\n",
       "      <td>1204392</td>\n",
       "    </tr>\n",
       "    <tr>\n",
       "      <th>3</th>\n",
       "      <td>人口</td>\n",
       "      <td>総数</td>\n",
       "      <td>男女計</td>\n",
       "      <td>岩手県</td>\n",
       "      <td>2022年10月1日現在</td>\n",
       "      <td>人</td>\n",
       "      <td>1180595</td>\n",
       "    </tr>\n",
       "    <tr>\n",
       "      <th>4</th>\n",
       "      <td>人口</td>\n",
       "      <td>総数</td>\n",
       "      <td>男女計</td>\n",
       "      <td>宮城県</td>\n",
       "      <td>2022年10月1日現在</td>\n",
       "      <td>人</td>\n",
       "      <td>2279977</td>\n",
       "    </tr>\n",
       "  </tbody>\n",
       "</table>\n",
       "</div>"
      ],
      "text/plain": [
       "  表章項目 年齢5歳階級  男女別 全国・都道府県    時間軸（年月日現在） @unit          $\n",
       "0   人口     総数  男女計      全国  2022年10月1日現在     人  124946789\n",
       "1   人口     総数  男女計     北海道  2022年10月1日現在     人    5140354\n",
       "2   人口     総数  男女計     青森県  2022年10月1日現在     人    1204392\n",
       "3   人口     総数  男女計     岩手県  2022年10月1日現在     人    1180595\n",
       "4   人口     総数  男女計     宮城県  2022年10月1日現在     人    2279977"
      ]
     },
     "execution_count": 17,
     "metadata": {},
     "output_type": "execute_result"
    }
   ],
   "source": [
    "df_data = estatapi.helper.json_to_df(meta_info, data)\n",
    "df_data.head()"
   ]
  },
  {
   "cell_type": "markdown",
   "metadata": {},
   "source": [
    "## データ保存"
   ]
  },
  {
   "cell_type": "code",
   "execution_count": 18,
   "metadata": {},
   "outputs": [],
   "source": [
    "path = DATADIR / \"e-stat00200524.csv\"\n",
    "df_data.to_csv(path, index=False)"
   ]
  }
 ],
 "metadata": {
  "kernelspec": {
   "display_name": "Python 3",
   "language": "python",
   "name": "python3"
  },
  "language_info": {
   "codemirror_mode": {
    "name": "ipython",
    "version": 3
   },
   "file_extension": ".py",
   "mimetype": "text/x-python",
   "name": "python",
   "nbconvert_exporter": "python",
   "pygments_lexer": "ipython3",
   "version": "3.11.8"
  }
 },
 "nbformat": 4,
 "nbformat_minor": 2
}
